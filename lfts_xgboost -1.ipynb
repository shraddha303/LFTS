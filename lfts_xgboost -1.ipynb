{
 "cells": [
  {
   "cell_type": "code",
   "execution_count": 3,
   "metadata": {},
   "outputs": [],
   "source": [
    "train1=r'C:\\\\Users\\\\shraddha\\\\Desktop\\\\ds\\\\LTFS\\\\train\\\\train.csv'\n",
    "test1=r'C:\\\\Users\\\\shraddha\\\\Desktop\\\\ds\\\\LTFS\\\\test.csv'"
   ]
  },
  {
   "cell_type": "code",
   "execution_count": 4,
   "metadata": {},
   "outputs": [],
   "source": [
    "import pandas as pd\n",
    "import numpy as np"
   ]
  },
  {
   "cell_type": "code",
   "execution_count": 5,
   "metadata": {},
   "outputs": [],
   "source": [
    "train=pd.read_csv(train1)\n",
    "test=pd.read_csv(test1)\n",
    "test2=pd.read_csv(test1)"
   ]
  },
  {
   "cell_type": "code",
   "execution_count": 6,
   "metadata": {},
   "outputs": [
    {
     "data": {
      "text/html": [
       "<div>\n",
       "<style scoped>\n",
       "    .dataframe tbody tr th:only-of-type {\n",
       "        vertical-align: middle;\n",
       "    }\n",
       "\n",
       "    .dataframe tbody tr th {\n",
       "        vertical-align: top;\n",
       "    }\n",
       "\n",
       "    .dataframe thead th {\n",
       "        text-align: right;\n",
       "    }\n",
       "</style>\n",
       "<table border=\"1\" class=\"dataframe\">\n",
       "  <thead>\n",
       "    <tr style=\"text-align: right;\">\n",
       "      <th></th>\n",
       "      <th>UniqueID</th>\n",
       "      <th>disbursed_amount</th>\n",
       "      <th>asset_cost</th>\n",
       "      <th>ltv</th>\n",
       "      <th>branch_id</th>\n",
       "      <th>supplier_id</th>\n",
       "      <th>manufacturer_id</th>\n",
       "      <th>Current_pincode_ID</th>\n",
       "      <th>Date.of.Birth</th>\n",
       "      <th>Employment.Type</th>\n",
       "      <th>...</th>\n",
       "      <th>SEC.CURRENT.BALANCE</th>\n",
       "      <th>SEC.SANCTIONED.AMOUNT</th>\n",
       "      <th>SEC.DISBURSED.AMOUNT</th>\n",
       "      <th>PRIMARY.INSTAL.AMT</th>\n",
       "      <th>SEC.INSTAL.AMT</th>\n",
       "      <th>NEW.ACCTS.IN.LAST.SIX.MONTHS</th>\n",
       "      <th>DELINQUENT.ACCTS.IN.LAST.SIX.MONTHS</th>\n",
       "      <th>AVERAGE.ACCT.AGE</th>\n",
       "      <th>CREDIT.HISTORY.LENGTH</th>\n",
       "      <th>NO.OF_INQUIRIES</th>\n",
       "    </tr>\n",
       "  </thead>\n",
       "  <tbody>\n",
       "    <tr>\n",
       "      <th>0</th>\n",
       "      <td>655269</td>\n",
       "      <td>53478</td>\n",
       "      <td>63558</td>\n",
       "      <td>86.54</td>\n",
       "      <td>67</td>\n",
       "      <td>22807</td>\n",
       "      <td>45</td>\n",
       "      <td>1497</td>\n",
       "      <td>01-01-74</td>\n",
       "      <td>Salaried</td>\n",
       "      <td>...</td>\n",
       "      <td>0</td>\n",
       "      <td>0</td>\n",
       "      <td>0</td>\n",
       "      <td>0</td>\n",
       "      <td>0</td>\n",
       "      <td>0</td>\n",
       "      <td>0</td>\n",
       "      <td>0yrs 0mon</td>\n",
       "      <td>0yrs 0mon</td>\n",
       "      <td>0</td>\n",
       "    </tr>\n",
       "    <tr>\n",
       "      <th>1</th>\n",
       "      <td>723482</td>\n",
       "      <td>55513</td>\n",
       "      <td>63163</td>\n",
       "      <td>89.45</td>\n",
       "      <td>67</td>\n",
       "      <td>22807</td>\n",
       "      <td>45</td>\n",
       "      <td>1497</td>\n",
       "      <td>20-05-85</td>\n",
       "      <td>Self employed</td>\n",
       "      <td>...</td>\n",
       "      <td>0</td>\n",
       "      <td>0</td>\n",
       "      <td>0</td>\n",
       "      <td>5605</td>\n",
       "      <td>0</td>\n",
       "      <td>1</td>\n",
       "      <td>0</td>\n",
       "      <td>0yrs 8mon</td>\n",
       "      <td>1yrs 0mon</td>\n",
       "      <td>1</td>\n",
       "    </tr>\n",
       "    <tr>\n",
       "      <th>2</th>\n",
       "      <td>758529</td>\n",
       "      <td>65282</td>\n",
       "      <td>84320</td>\n",
       "      <td>79.93</td>\n",
       "      <td>78</td>\n",
       "      <td>23135</td>\n",
       "      <td>86</td>\n",
       "      <td>2071</td>\n",
       "      <td>14-10-95</td>\n",
       "      <td>Salaried</td>\n",
       "      <td>...</td>\n",
       "      <td>0</td>\n",
       "      <td>0</td>\n",
       "      <td>0</td>\n",
       "      <td>0</td>\n",
       "      <td>0</td>\n",
       "      <td>0</td>\n",
       "      <td>0</td>\n",
       "      <td>0yrs 0mon</td>\n",
       "      <td>0yrs 0mon</td>\n",
       "      <td>0</td>\n",
       "    </tr>\n",
       "    <tr>\n",
       "      <th>3</th>\n",
       "      <td>763449</td>\n",
       "      <td>46905</td>\n",
       "      <td>63896</td>\n",
       "      <td>76.58</td>\n",
       "      <td>78</td>\n",
       "      <td>17014</td>\n",
       "      <td>45</td>\n",
       "      <td>2070</td>\n",
       "      <td>01-06-73</td>\n",
       "      <td>Self employed</td>\n",
       "      <td>...</td>\n",
       "      <td>0</td>\n",
       "      <td>0</td>\n",
       "      <td>0</td>\n",
       "      <td>0</td>\n",
       "      <td>0</td>\n",
       "      <td>0</td>\n",
       "      <td>0</td>\n",
       "      <td>2yrs 5mon</td>\n",
       "      <td>2yrs 5mon</td>\n",
       "      <td>0</td>\n",
       "    </tr>\n",
       "    <tr>\n",
       "      <th>4</th>\n",
       "      <td>708663</td>\n",
       "      <td>51428</td>\n",
       "      <td>63896</td>\n",
       "      <td>86.08</td>\n",
       "      <td>78</td>\n",
       "      <td>17014</td>\n",
       "      <td>45</td>\n",
       "      <td>2069</td>\n",
       "      <td>01-06-72</td>\n",
       "      <td>Salaried</td>\n",
       "      <td>...</td>\n",
       "      <td>0</td>\n",
       "      <td>0</td>\n",
       "      <td>0</td>\n",
       "      <td>0</td>\n",
       "      <td>0</td>\n",
       "      <td>0</td>\n",
       "      <td>0</td>\n",
       "      <td>0yrs 0mon</td>\n",
       "      <td>0yrs 0mon</td>\n",
       "      <td>0</td>\n",
       "    </tr>\n",
       "  </tbody>\n",
       "</table>\n",
       "<p>5 rows × 40 columns</p>\n",
       "</div>"
      ],
      "text/plain": [
       "   UniqueID  disbursed_amount  asset_cost    ltv  branch_id  supplier_id  \\\n",
       "0    655269             53478       63558  86.54         67        22807   \n",
       "1    723482             55513       63163  89.45         67        22807   \n",
       "2    758529             65282       84320  79.93         78        23135   \n",
       "3    763449             46905       63896  76.58         78        17014   \n",
       "4    708663             51428       63896  86.08         78        17014   \n",
       "\n",
       "   manufacturer_id  Current_pincode_ID Date.of.Birth Employment.Type  \\\n",
       "0               45                1497      01-01-74        Salaried   \n",
       "1               45                1497      20-05-85   Self employed   \n",
       "2               86                2071      14-10-95        Salaried   \n",
       "3               45                2070      01-06-73   Self employed   \n",
       "4               45                2069      01-06-72        Salaried   \n",
       "\n",
       "        ...        SEC.CURRENT.BALANCE  SEC.SANCTIONED.AMOUNT  \\\n",
       "0       ...                          0                      0   \n",
       "1       ...                          0                      0   \n",
       "2       ...                          0                      0   \n",
       "3       ...                          0                      0   \n",
       "4       ...                          0                      0   \n",
       "\n",
       "   SEC.DISBURSED.AMOUNT  PRIMARY.INSTAL.AMT  SEC.INSTAL.AMT  \\\n",
       "0                     0                   0               0   \n",
       "1                     0                5605               0   \n",
       "2                     0                   0               0   \n",
       "3                     0                   0               0   \n",
       "4                     0                   0               0   \n",
       "\n",
       "   NEW.ACCTS.IN.LAST.SIX.MONTHS  DELINQUENT.ACCTS.IN.LAST.SIX.MONTHS  \\\n",
       "0                             0                                    0   \n",
       "1                             1                                    0   \n",
       "2                             0                                    0   \n",
       "3                             0                                    0   \n",
       "4                             0                                    0   \n",
       "\n",
       "   AVERAGE.ACCT.AGE  CREDIT.HISTORY.LENGTH  NO.OF_INQUIRIES  \n",
       "0         0yrs 0mon              0yrs 0mon                0  \n",
       "1         0yrs 8mon              1yrs 0mon                1  \n",
       "2         0yrs 0mon              0yrs 0mon                0  \n",
       "3         2yrs 5mon              2yrs 5mon                0  \n",
       "4         0yrs 0mon              0yrs 0mon                0  \n",
       "\n",
       "[5 rows x 40 columns]"
      ]
     },
     "execution_count": 6,
     "metadata": {},
     "output_type": "execute_result"
    }
   ],
   "source": [
    "test.head()"
   ]
  },
  {
   "cell_type": "code",
   "execution_count": 5,
   "metadata": {},
   "outputs": [
    {
     "data": {
      "text/plain": [
       "Index(['UniqueID', 'disbursed_amount', 'asset_cost', 'ltv', 'branch_id',\n",
       "       'supplier_id', 'manufacturer_id', 'Current_pincode_ID', 'Date.of.Birth',\n",
       "       'Employment.Type', 'DisbursalDate', 'State_ID', 'Employee_code_ID',\n",
       "       'MobileNo_Avl_Flag', 'Aadhar_flag', 'PAN_flag', 'VoterID_flag',\n",
       "       'Driving_flag', 'Passport_flag', 'PERFORM_CNS.SCORE',\n",
       "       'PERFORM_CNS.SCORE.DESCRIPTION', 'PRI.NO.OF.ACCTS', 'PRI.ACTIVE.ACCTS',\n",
       "       'PRI.OVERDUE.ACCTS', 'PRI.CURRENT.BALANCE', 'PRI.SANCTIONED.AMOUNT',\n",
       "       'PRI.DISBURSED.AMOUNT', 'SEC.NO.OF.ACCTS', 'SEC.ACTIVE.ACCTS',\n",
       "       'SEC.OVERDUE.ACCTS', 'SEC.CURRENT.BALANCE', 'SEC.SANCTIONED.AMOUNT',\n",
       "       'SEC.DISBURSED.AMOUNT', 'PRIMARY.INSTAL.AMT', 'SEC.INSTAL.AMT',\n",
       "       'NEW.ACCTS.IN.LAST.SIX.MONTHS', 'DELINQUENT.ACCTS.IN.LAST.SIX.MONTHS',\n",
       "       'AVERAGE.ACCT.AGE', 'CREDIT.HISTORY.LENGTH', 'NO.OF_INQUIRIES',\n",
       "       'loan_default'],\n",
       "      dtype='object')"
      ]
     },
     "execution_count": 5,
     "metadata": {},
     "output_type": "execute_result"
    }
   ],
   "source": [
    "train.columns"
   ]
  },
  {
   "cell_type": "code",
   "execution_count": 6,
   "metadata": {},
   "outputs": [
    {
     "data": {
      "text/plain": [
       "Index(['UniqueID', 'disbursed_amount', 'asset_cost', 'ltv', 'branch_id',\n",
       "       'supplier_id', 'manufacturer_id', 'Current_pincode_ID', 'Date.of.Birth',\n",
       "       'Employment.Type', 'DisbursalDate', 'State_ID', 'Employee_code_ID',\n",
       "       'MobileNo_Avl_Flag', 'Aadhar_flag', 'PAN_flag', 'VoterID_flag',\n",
       "       'Driving_flag', 'Passport_flag', 'PERFORM_CNS.SCORE',\n",
       "       'PERFORM_CNS.SCORE.DESCRIPTION', 'PRI.NO.OF.ACCTS', 'PRI.ACTIVE.ACCTS',\n",
       "       'PRI.OVERDUE.ACCTS', 'PRI.CURRENT.BALANCE', 'PRI.SANCTIONED.AMOUNT',\n",
       "       'PRI.DISBURSED.AMOUNT', 'SEC.NO.OF.ACCTS', 'SEC.ACTIVE.ACCTS',\n",
       "       'SEC.OVERDUE.ACCTS', 'SEC.CURRENT.BALANCE', 'SEC.SANCTIONED.AMOUNT',\n",
       "       'SEC.DISBURSED.AMOUNT', 'PRIMARY.INSTAL.AMT', 'SEC.INSTAL.AMT',\n",
       "       'NEW.ACCTS.IN.LAST.SIX.MONTHS', 'DELINQUENT.ACCTS.IN.LAST.SIX.MONTHS',\n",
       "       'AVERAGE.ACCT.AGE', 'CREDIT.HISTORY.LENGTH', 'NO.OF_INQUIRIES'],\n",
       "      dtype='object')"
      ]
     },
     "execution_count": 6,
     "metadata": {},
     "output_type": "execute_result"
    }
   ],
   "source": [
    "test.columns"
   ]
  },
  {
   "cell_type": "code",
   "execution_count": 7,
   "metadata": {},
   "outputs": [],
   "source": [
    "train['data']='train'\n",
    "test['data']='test'\n",
    "test['loan_default']=np.nan"
   ]
  },
  {
   "cell_type": "code",
   "execution_count": 8,
   "metadata": {},
   "outputs": [],
   "source": [
    "all_data=pd.concat([train,test],axis=0)"
   ]
  },
  {
   "cell_type": "code",
   "execution_count": 9,
   "metadata": {},
   "outputs": [
    {
     "data": {
      "text/plain": [
       "AVERAGE.ACCT.AGE                        object\n",
       "Aadhar_flag                              int64\n",
       "CREDIT.HISTORY.LENGTH                   object\n",
       "Current_pincode_ID                       int64\n",
       "DELINQUENT.ACCTS.IN.LAST.SIX.MONTHS      int64\n",
       "Date.of.Birth                           object\n",
       "DisbursalDate                           object\n",
       "Driving_flag                             int64\n",
       "Employee_code_ID                         int64\n",
       "Employment.Type                         object\n",
       "MobileNo_Avl_Flag                        int64\n",
       "NEW.ACCTS.IN.LAST.SIX.MONTHS             int64\n",
       "NO.OF_INQUIRIES                          int64\n",
       "PAN_flag                                 int64\n",
       "PERFORM_CNS.SCORE                        int64\n",
       "PERFORM_CNS.SCORE.DESCRIPTION           object\n",
       "PRI.ACTIVE.ACCTS                         int64\n",
       "PRI.CURRENT.BALANCE                      int64\n",
       "PRI.DISBURSED.AMOUNT                     int64\n",
       "PRI.NO.OF.ACCTS                          int64\n",
       "PRI.OVERDUE.ACCTS                        int64\n",
       "PRI.SANCTIONED.AMOUNT                    int64\n",
       "PRIMARY.INSTAL.AMT                       int64\n",
       "Passport_flag                            int64\n",
       "SEC.ACTIVE.ACCTS                         int64\n",
       "SEC.CURRENT.BALANCE                      int64\n",
       "SEC.DISBURSED.AMOUNT                     int64\n",
       "SEC.INSTAL.AMT                           int64\n",
       "SEC.NO.OF.ACCTS                          int64\n",
       "SEC.OVERDUE.ACCTS                        int64\n",
       "SEC.SANCTIONED.AMOUNT                    int64\n",
       "State_ID                                 int64\n",
       "UniqueID                                 int64\n",
       "VoterID_flag                             int64\n",
       "asset_cost                               int64\n",
       "branch_id                                int64\n",
       "data                                    object\n",
       "disbursed_amount                         int64\n",
       "loan_default                           float64\n",
       "ltv                                    float64\n",
       "manufacturer_id                          int64\n",
       "supplier_id                              int64\n",
       "dtype: object"
      ]
     },
     "execution_count": 9,
     "metadata": {},
     "output_type": "execute_result"
    }
   ],
   "source": [
    "all_data.dtypes"
   ]
  },
  {
   "cell_type": "code",
   "execution_count": 10,
   "metadata": {},
   "outputs": [
    {
     "data": {
      "text/plain": [
       "0          0yrs 0mon\n",
       "1         1yrs 11mon\n",
       "2          0yrs 0mon\n",
       "3          0yrs 8mon\n",
       "4          0yrs 0mon\n",
       "5          1yrs 9mon\n",
       "6          0yrs 0mon\n",
       "7          0yrs 2mon\n",
       "8          4yrs 8mon\n",
       "9          1yrs 7mon\n",
       "10         0yrs 7mon\n",
       "11         2yrs 1mon\n",
       "12         1yrs 3mon\n",
       "13         1yrs 0mon\n",
       "14        3yrs 11mon\n",
       "15         0yrs 1mon\n",
       "16         2yrs 6mon\n",
       "17        1yrs 10mon\n",
       "18         1yrs 9mon\n",
       "19        0yrs 11mon\n",
       "20         0yrs 6mon\n",
       "21         2yrs 9mon\n",
       "22         0yrs 0mon\n",
       "23         1yrs 3mon\n",
       "24         0yrs 0mon\n",
       "25         0yrs 0mon\n",
       "26         0yrs 0mon\n",
       "27         0yrs 0mon\n",
       "28         3yrs 1mon\n",
       "29         2yrs 0mon\n",
       "             ...    \n",
       "112362     0yrs 3mon\n",
       "112363     0yrs 0mon\n",
       "112364     1yrs 9mon\n",
       "112365     3yrs 7mon\n",
       "112366     0yrs 0mon\n",
       "112367     0yrs 0mon\n",
       "112368     0yrs 0mon\n",
       "112369     0yrs 6mon\n",
       "112370     0yrs 2mon\n",
       "112371     0yrs 0mon\n",
       "112372     0yrs 0mon\n",
       "112373     0yrs 0mon\n",
       "112374    0yrs 10mon\n",
       "112375     0yrs 0mon\n",
       "112376     0yrs 0mon\n",
       "112377    0yrs 10mon\n",
       "112378     0yrs 0mon\n",
       "112379     0yrs 0mon\n",
       "112380     0yrs 0mon\n",
       "112381     0yrs 9mon\n",
       "112382     0yrs 0mon\n",
       "112383    3yrs 10mon\n",
       "112384     0yrs 0mon\n",
       "112385     0yrs 0mon\n",
       "112386     1yrs 1mon\n",
       "112387     0yrs 0mon\n",
       "112388     0yrs 0mon\n",
       "112389    4yrs 10mon\n",
       "112390     0yrs 3mon\n",
       "112391     0yrs 0mon\n",
       "Name: AVERAGE.ACCT.AGE, Length: 345546, dtype: object"
      ]
     },
     "execution_count": 10,
     "metadata": {},
     "output_type": "execute_result"
    }
   ],
   "source": [
    "all_data['AVERAGE.ACCT.AGE']"
   ]
  },
  {
   "cell_type": "code",
   "execution_count": 11,
   "metadata": {},
   "outputs": [
    {
     "name": "stderr",
     "output_type": "stream",
     "text": [
      "G:\\Data Sci\\Python\\Anaconda3\\lib\\site-packages\\ipykernel_launcher.py:1: FutureWarning: currently extract(expand=None) means expand=False (return Index/Series/DataFrame) but in a future version of pandas this will be changed to expand=True (return DataFrame)\n",
      "  \"\"\"Entry point for launching an IPython kernel.\n"
     ]
    },
    {
     "data": {
      "text/plain": [
       "0         0\n",
       "1         1\n",
       "2         0\n",
       "3         0\n",
       "4         0\n",
       "5         1\n",
       "6         0\n",
       "7         0\n",
       "8         4\n",
       "9         1\n",
       "10        0\n",
       "11        2\n",
       "12        1\n",
       "13        1\n",
       "14        3\n",
       "15        0\n",
       "16        2\n",
       "17        1\n",
       "18        1\n",
       "19        0\n",
       "20        0\n",
       "21        2\n",
       "22        0\n",
       "23        1\n",
       "24        0\n",
       "25        0\n",
       "26        0\n",
       "27        0\n",
       "28        3\n",
       "29        2\n",
       "         ..\n",
       "112362    0\n",
       "112363    0\n",
       "112364    1\n",
       "112365    3\n",
       "112366    0\n",
       "112367    0\n",
       "112368    0\n",
       "112369    0\n",
       "112370    0\n",
       "112371    0\n",
       "112372    0\n",
       "112373    0\n",
       "112374    0\n",
       "112375    0\n",
       "112376    0\n",
       "112377    0\n",
       "112378    0\n",
       "112379    0\n",
       "112380    0\n",
       "112381    0\n",
       "112382    0\n",
       "112383    3\n",
       "112384    0\n",
       "112385    0\n",
       "112386    1\n",
       "112387    0\n",
       "112388    0\n",
       "112389    4\n",
       "112390    0\n",
       "112391    0\n",
       "Name: AVERAGE.ACCT.AGE, Length: 345546, dtype: object"
      ]
     },
     "execution_count": 11,
     "metadata": {},
     "output_type": "execute_result"
    }
   ],
   "source": [
    "all_data['AVERAGE.ACCT.AGE'].str.extract('(\\d+)')"
   ]
  },
  {
   "cell_type": "code",
   "execution_count": 11,
   "metadata": {},
   "outputs": [
    {
     "name": "stderr",
     "output_type": "stream",
     "text": [
      "G:\\Data Sci\\Python\\Anaconda3\\lib\\site-packages\\ipykernel_launcher.py:1: FutureWarning: currently extract(expand=None) means expand=False (return Index/Series/DataFrame) but in a future version of pandas this will be changed to expand=True (return DataFrame)\n",
      "  \"\"\"Entry point for launching an IPython kernel.\n"
     ]
    }
   ],
   "source": [
    "all_data['AVERAGE.ACCT.AGE.yr']=pd.to_numeric(all_data['AVERAGE.ACCT.AGE'].str.extract('(\\d+)'))"
   ]
  },
  {
   "cell_type": "code",
   "execution_count": 12,
   "metadata": {},
   "outputs": [
    {
     "data": {
      "text/html": [
       "<div>\n",
       "<style scoped>\n",
       "    .dataframe tbody tr th:only-of-type {\n",
       "        vertical-align: middle;\n",
       "    }\n",
       "\n",
       "    .dataframe tbody tr th {\n",
       "        vertical-align: top;\n",
       "    }\n",
       "\n",
       "    .dataframe thead th {\n",
       "        text-align: right;\n",
       "    }\n",
       "</style>\n",
       "<table border=\"1\" class=\"dataframe\">\n",
       "  <thead>\n",
       "    <tr style=\"text-align: right;\">\n",
       "      <th></th>\n",
       "      <th>AVERAGE.ACCT.AGE</th>\n",
       "      <th>Aadhar_flag</th>\n",
       "      <th>CREDIT.HISTORY.LENGTH</th>\n",
       "      <th>Current_pincode_ID</th>\n",
       "      <th>DELINQUENT.ACCTS.IN.LAST.SIX.MONTHS</th>\n",
       "      <th>Date.of.Birth</th>\n",
       "      <th>DisbursalDate</th>\n",
       "      <th>Driving_flag</th>\n",
       "      <th>Employee_code_ID</th>\n",
       "      <th>Employment.Type</th>\n",
       "      <th>...</th>\n",
       "      <th>VoterID_flag</th>\n",
       "      <th>asset_cost</th>\n",
       "      <th>branch_id</th>\n",
       "      <th>data</th>\n",
       "      <th>disbursed_amount</th>\n",
       "      <th>loan_default</th>\n",
       "      <th>ltv</th>\n",
       "      <th>manufacturer_id</th>\n",
       "      <th>supplier_id</th>\n",
       "      <th>AVERAGE.ACCT.AGE.yr</th>\n",
       "    </tr>\n",
       "  </thead>\n",
       "  <tbody>\n",
       "    <tr>\n",
       "      <th>0</th>\n",
       "      <td>0yrs 0mon</td>\n",
       "      <td>1</td>\n",
       "      <td>0yrs 0mon</td>\n",
       "      <td>1441</td>\n",
       "      <td>0</td>\n",
       "      <td>01-01-84</td>\n",
       "      <td>03-08-18</td>\n",
       "      <td>0</td>\n",
       "      <td>1998</td>\n",
       "      <td>Salaried</td>\n",
       "      <td>...</td>\n",
       "      <td>0</td>\n",
       "      <td>58400</td>\n",
       "      <td>67</td>\n",
       "      <td>train</td>\n",
       "      <td>50578</td>\n",
       "      <td>0.0</td>\n",
       "      <td>89.55</td>\n",
       "      <td>45</td>\n",
       "      <td>22807</td>\n",
       "      <td>0</td>\n",
       "    </tr>\n",
       "    <tr>\n",
       "      <th>1</th>\n",
       "      <td>1yrs 11mon</td>\n",
       "      <td>1</td>\n",
       "      <td>1yrs 11mon</td>\n",
       "      <td>1502</td>\n",
       "      <td>1</td>\n",
       "      <td>31-07-85</td>\n",
       "      <td>26-09-18</td>\n",
       "      <td>0</td>\n",
       "      <td>1998</td>\n",
       "      <td>Self employed</td>\n",
       "      <td>...</td>\n",
       "      <td>0</td>\n",
       "      <td>65550</td>\n",
       "      <td>67</td>\n",
       "      <td>train</td>\n",
       "      <td>47145</td>\n",
       "      <td>1.0</td>\n",
       "      <td>73.23</td>\n",
       "      <td>45</td>\n",
       "      <td>22807</td>\n",
       "      <td>1</td>\n",
       "    </tr>\n",
       "    <tr>\n",
       "      <th>2</th>\n",
       "      <td>0yrs 0mon</td>\n",
       "      <td>1</td>\n",
       "      <td>0yrs 0mon</td>\n",
       "      <td>1497</td>\n",
       "      <td>0</td>\n",
       "      <td>24-08-85</td>\n",
       "      <td>01-08-18</td>\n",
       "      <td>0</td>\n",
       "      <td>1998</td>\n",
       "      <td>Self employed</td>\n",
       "      <td>...</td>\n",
       "      <td>0</td>\n",
       "      <td>61360</td>\n",
       "      <td>67</td>\n",
       "      <td>train</td>\n",
       "      <td>53278</td>\n",
       "      <td>0.0</td>\n",
       "      <td>89.63</td>\n",
       "      <td>45</td>\n",
       "      <td>22807</td>\n",
       "      <td>0</td>\n",
       "    </tr>\n",
       "    <tr>\n",
       "      <th>3</th>\n",
       "      <td>0yrs 8mon</td>\n",
       "      <td>1</td>\n",
       "      <td>1yrs 3mon</td>\n",
       "      <td>1501</td>\n",
       "      <td>0</td>\n",
       "      <td>30-12-93</td>\n",
       "      <td>26-10-18</td>\n",
       "      <td>0</td>\n",
       "      <td>1998</td>\n",
       "      <td>Self employed</td>\n",
       "      <td>...</td>\n",
       "      <td>0</td>\n",
       "      <td>66113</td>\n",
       "      <td>67</td>\n",
       "      <td>train</td>\n",
       "      <td>57513</td>\n",
       "      <td>1.0</td>\n",
       "      <td>88.48</td>\n",
       "      <td>45</td>\n",
       "      <td>22807</td>\n",
       "      <td>0</td>\n",
       "    </tr>\n",
       "    <tr>\n",
       "      <th>4</th>\n",
       "      <td>0yrs 0mon</td>\n",
       "      <td>1</td>\n",
       "      <td>0yrs 0mon</td>\n",
       "      <td>1495</td>\n",
       "      <td>0</td>\n",
       "      <td>09-12-77</td>\n",
       "      <td>26-09-18</td>\n",
       "      <td>0</td>\n",
       "      <td>1998</td>\n",
       "      <td>Self employed</td>\n",
       "      <td>...</td>\n",
       "      <td>0</td>\n",
       "      <td>60300</td>\n",
       "      <td>67</td>\n",
       "      <td>train</td>\n",
       "      <td>52378</td>\n",
       "      <td>1.0</td>\n",
       "      <td>88.39</td>\n",
       "      <td>45</td>\n",
       "      <td>22807</td>\n",
       "      <td>0</td>\n",
       "    </tr>\n",
       "    <tr>\n",
       "      <th>5</th>\n",
       "      <td>1yrs 9mon</td>\n",
       "      <td>1</td>\n",
       "      <td>2yrs 0mon</td>\n",
       "      <td>1501</td>\n",
       "      <td>0</td>\n",
       "      <td>08-09-90</td>\n",
       "      <td>19-09-18</td>\n",
       "      <td>0</td>\n",
       "      <td>1998</td>\n",
       "      <td>Self employed</td>\n",
       "      <td>...</td>\n",
       "      <td>0</td>\n",
       "      <td>61900</td>\n",
       "      <td>67</td>\n",
       "      <td>train</td>\n",
       "      <td>54513</td>\n",
       "      <td>0.0</td>\n",
       "      <td>89.66</td>\n",
       "      <td>45</td>\n",
       "      <td>22807</td>\n",
       "      <td>1</td>\n",
       "    </tr>\n",
       "    <tr>\n",
       "      <th>6</th>\n",
       "      <td>0yrs 0mon</td>\n",
       "      <td>1</td>\n",
       "      <td>0yrs 0mon</td>\n",
       "      <td>1502</td>\n",
       "      <td>0</td>\n",
       "      <td>01-06-88</td>\n",
       "      <td>23-09-18</td>\n",
       "      <td>0</td>\n",
       "      <td>1998</td>\n",
       "      <td>Salaried</td>\n",
       "      <td>...</td>\n",
       "      <td>0</td>\n",
       "      <td>61500</td>\n",
       "      <td>67</td>\n",
       "      <td>train</td>\n",
       "      <td>46349</td>\n",
       "      <td>0.0</td>\n",
       "      <td>76.42</td>\n",
       "      <td>45</td>\n",
       "      <td>22807</td>\n",
       "      <td>0</td>\n",
       "    </tr>\n",
       "    <tr>\n",
       "      <th>7</th>\n",
       "      <td>0yrs 2mon</td>\n",
       "      <td>1</td>\n",
       "      <td>0yrs 2mon</td>\n",
       "      <td>1501</td>\n",
       "      <td>0</td>\n",
       "      <td>04-10-89</td>\n",
       "      <td>16-09-18</td>\n",
       "      <td>0</td>\n",
       "      <td>1998</td>\n",
       "      <td>Salaried</td>\n",
       "      <td>...</td>\n",
       "      <td>0</td>\n",
       "      <td>61900</td>\n",
       "      <td>67</td>\n",
       "      <td>train</td>\n",
       "      <td>43894</td>\n",
       "      <td>0.0</td>\n",
       "      <td>71.89</td>\n",
       "      <td>45</td>\n",
       "      <td>22807</td>\n",
       "      <td>0</td>\n",
       "    </tr>\n",
       "    <tr>\n",
       "      <th>8</th>\n",
       "      <td>4yrs 8mon</td>\n",
       "      <td>1</td>\n",
       "      <td>4yrs 8mon</td>\n",
       "      <td>1497</td>\n",
       "      <td>0</td>\n",
       "      <td>15-11-91</td>\n",
       "      <td>05-09-18</td>\n",
       "      <td>0</td>\n",
       "      <td>1998</td>\n",
       "      <td>Self employed</td>\n",
       "      <td>...</td>\n",
       "      <td>0</td>\n",
       "      <td>61973</td>\n",
       "      <td>67</td>\n",
       "      <td>train</td>\n",
       "      <td>53713</td>\n",
       "      <td>0.0</td>\n",
       "      <td>89.56</td>\n",
       "      <td>45</td>\n",
       "      <td>22807</td>\n",
       "      <td>4</td>\n",
       "    </tr>\n",
       "    <tr>\n",
       "      <th>9</th>\n",
       "      <td>1yrs 7mon</td>\n",
       "      <td>0</td>\n",
       "      <td>1yrs 7mon</td>\n",
       "      <td>1492</td>\n",
       "      <td>0</td>\n",
       "      <td>01-06-68</td>\n",
       "      <td>16-09-18</td>\n",
       "      <td>0</td>\n",
       "      <td>1998</td>\n",
       "      <td>Salaried</td>\n",
       "      <td>...</td>\n",
       "      <td>1</td>\n",
       "      <td>61300</td>\n",
       "      <td>67</td>\n",
       "      <td>train</td>\n",
       "      <td>52603</td>\n",
       "      <td>0.0</td>\n",
       "      <td>86.95</td>\n",
       "      <td>45</td>\n",
       "      <td>22807</td>\n",
       "      <td>1</td>\n",
       "    </tr>\n",
       "  </tbody>\n",
       "</table>\n",
       "<p>10 rows × 43 columns</p>\n",
       "</div>"
      ],
      "text/plain": [
       "  AVERAGE.ACCT.AGE  Aadhar_flag CREDIT.HISTORY.LENGTH  Current_pincode_ID  \\\n",
       "0        0yrs 0mon            1             0yrs 0mon                1441   \n",
       "1       1yrs 11mon            1            1yrs 11mon                1502   \n",
       "2        0yrs 0mon            1             0yrs 0mon                1497   \n",
       "3        0yrs 8mon            1             1yrs 3mon                1501   \n",
       "4        0yrs 0mon            1             0yrs 0mon                1495   \n",
       "5        1yrs 9mon            1             2yrs 0mon                1501   \n",
       "6        0yrs 0mon            1             0yrs 0mon                1502   \n",
       "7        0yrs 2mon            1             0yrs 2mon                1501   \n",
       "8        4yrs 8mon            1             4yrs 8mon                1497   \n",
       "9        1yrs 7mon            0             1yrs 7mon                1492   \n",
       "\n",
       "   DELINQUENT.ACCTS.IN.LAST.SIX.MONTHS Date.of.Birth DisbursalDate  \\\n",
       "0                                    0      01-01-84      03-08-18   \n",
       "1                                    1      31-07-85      26-09-18   \n",
       "2                                    0      24-08-85      01-08-18   \n",
       "3                                    0      30-12-93      26-10-18   \n",
       "4                                    0      09-12-77      26-09-18   \n",
       "5                                    0      08-09-90      19-09-18   \n",
       "6                                    0      01-06-88      23-09-18   \n",
       "7                                    0      04-10-89      16-09-18   \n",
       "8                                    0      15-11-91      05-09-18   \n",
       "9                                    0      01-06-68      16-09-18   \n",
       "\n",
       "   Driving_flag  Employee_code_ID Employment.Type         ...           \\\n",
       "0             0              1998        Salaried         ...            \n",
       "1             0              1998   Self employed         ...            \n",
       "2             0              1998   Self employed         ...            \n",
       "3             0              1998   Self employed         ...            \n",
       "4             0              1998   Self employed         ...            \n",
       "5             0              1998   Self employed         ...            \n",
       "6             0              1998        Salaried         ...            \n",
       "7             0              1998        Salaried         ...            \n",
       "8             0              1998   Self employed         ...            \n",
       "9             0              1998        Salaried         ...            \n",
       "\n",
       "   VoterID_flag  asset_cost  branch_id   data  disbursed_amount loan_default  \\\n",
       "0             0       58400         67  train             50578          0.0   \n",
       "1             0       65550         67  train             47145          1.0   \n",
       "2             0       61360         67  train             53278          0.0   \n",
       "3             0       66113         67  train             57513          1.0   \n",
       "4             0       60300         67  train             52378          1.0   \n",
       "5             0       61900         67  train             54513          0.0   \n",
       "6             0       61500         67  train             46349          0.0   \n",
       "7             0       61900         67  train             43894          0.0   \n",
       "8             0       61973         67  train             53713          0.0   \n",
       "9             1       61300         67  train             52603          0.0   \n",
       "\n",
       "     ltv  manufacturer_id  supplier_id  AVERAGE.ACCT.AGE.yr  \n",
       "0  89.55               45        22807                    0  \n",
       "1  73.23               45        22807                    1  \n",
       "2  89.63               45        22807                    0  \n",
       "3  88.48               45        22807                    0  \n",
       "4  88.39               45        22807                    0  \n",
       "5  89.66               45        22807                    1  \n",
       "6  76.42               45        22807                    0  \n",
       "7  71.89               45        22807                    0  \n",
       "8  89.56               45        22807                    4  \n",
       "9  86.95               45        22807                    1  \n",
       "\n",
       "[10 rows x 43 columns]"
      ]
     },
     "execution_count": 12,
     "metadata": {},
     "output_type": "execute_result"
    }
   ],
   "source": [
    "all_data.head(10)"
   ]
  },
  {
   "cell_type": "code",
   "execution_count": 13,
   "metadata": {},
   "outputs": [
    {
     "name": "stderr",
     "output_type": "stream",
     "text": [
      "G:\\Data Sci\\Python\\Anaconda3\\lib\\site-packages\\ipykernel_launcher.py:1: FutureWarning: currently extract(expand=None) means expand=False (return Index/Series/DataFrame) but in a future version of pandas this will be changed to expand=True (return DataFrame)\n",
      "  \"\"\"Entry point for launching an IPython kernel.\n"
     ]
    },
    {
     "data": {
      "text/plain": [
       "0         0\n",
       "1         1\n",
       "2         0\n",
       "3         0\n",
       "4         0\n",
       "5         1\n",
       "6         0\n",
       "7         0\n",
       "8         4\n",
       "9         1\n",
       "10        0\n",
       "11        2\n",
       "12        1\n",
       "13        1\n",
       "14        3\n",
       "15        0\n",
       "16        2\n",
       "17        1\n",
       "18        1\n",
       "19        0\n",
       "20        0\n",
       "21        2\n",
       "22        0\n",
       "23        1\n",
       "24        0\n",
       "25        0\n",
       "26        0\n",
       "27        0\n",
       "28        3\n",
       "29        2\n",
       "         ..\n",
       "112362    0\n",
       "112363    0\n",
       "112364    1\n",
       "112365    3\n",
       "112366    0\n",
       "112367    0\n",
       "112368    0\n",
       "112369    0\n",
       "112370    0\n",
       "112371    0\n",
       "112372    0\n",
       "112373    0\n",
       "112374    0\n",
       "112375    0\n",
       "112376    0\n",
       "112377    0\n",
       "112378    0\n",
       "112379    0\n",
       "112380    0\n",
       "112381    0\n",
       "112382    0\n",
       "112383    3\n",
       "112384    0\n",
       "112385    0\n",
       "112386    1\n",
       "112387    0\n",
       "112388    0\n",
       "112389    4\n",
       "112390    0\n",
       "112391    0\n",
       "Name: AVERAGE.ACCT.AGE, Length: 345546, dtype: int64"
      ]
     },
     "execution_count": 13,
     "metadata": {},
     "output_type": "execute_result"
    }
   ],
   "source": [
    "pd.to_numeric(all_data['AVERAGE.ACCT.AGE'].str.extract('(\\d+)'))"
   ]
  },
  {
   "cell_type": "code",
   "execution_count": 14,
   "metadata": {},
   "outputs": [
    {
     "name": "stderr",
     "output_type": "stream",
     "text": [
      "G:\\Data Sci\\Python\\Anaconda3\\lib\\site-packages\\ipykernel_launcher.py:1: FutureWarning: currently extract(expand=None) means expand=False (return Index/Series/DataFrame) but in a future version of pandas this will be changed to expand=True (return DataFrame)\n",
      "  \"\"\"Entry point for launching an IPython kernel.\n"
     ]
    }
   ],
   "source": [
    "all_data['AVERAGE.ACCT.AGE.yr']=pd.to_numeric(all_data['AVERAGE.ACCT.AGE'].str.extract('(\\d+)'))"
   ]
  },
  {
   "cell_type": "code",
   "execution_count": 15,
   "metadata": {},
   "outputs": [
    {
     "name": "stderr",
     "output_type": "stream",
     "text": [
      "G:\\Data Sci\\Python\\Anaconda3\\lib\\site-packages\\ipykernel_launcher.py:1: FutureWarning: currently extract(expand=None) means expand=False (return Index/Series/DataFrame) but in a future version of pandas this will be changed to expand=True (return DataFrame)\n",
      "  \"\"\"Entry point for launching an IPython kernel.\n"
     ]
    }
   ],
   "source": [
    "all_data['AVERAGE.ACCT.AGE.mon']=all_data['AVERAGE.ACCT.AGE'].str.extract(r'\\b(\\w+)$')"
   ]
  },
  {
   "cell_type": "code",
   "execution_count": 16,
   "metadata": {},
   "outputs": [],
   "source": [
    "\n",
    "all_data['AVERAGE.ACCT.AGE.mon']=pd.to_numeric(all_data['AVERAGE.ACCT.AGE.mon'].str.replace('mon',''))"
   ]
  },
  {
   "cell_type": "code",
   "execution_count": 17,
   "metadata": {},
   "outputs": [],
   "source": [
    "all_data['AVERAGE.ACCT.AGE']=(all_data['AVERAGE.ACCT.AGE.yr']*12)+all_data['AVERAGE.ACCT.AGE.mon']"
   ]
  },
  {
   "cell_type": "code",
   "execution_count": 18,
   "metadata": {},
   "outputs": [],
   "source": [
    "del all_data['AVERAGE.ACCT.AGE.yr']\n",
    "del all_data['AVERAGE.ACCT.AGE.mon']"
   ]
  },
  {
   "cell_type": "code",
   "execution_count": 20,
   "metadata": {},
   "outputs": [
    {
     "data": {
      "text/html": [
       "<div>\n",
       "<style scoped>\n",
       "    .dataframe tbody tr th:only-of-type {\n",
       "        vertical-align: middle;\n",
       "    }\n",
       "\n",
       "    .dataframe tbody tr th {\n",
       "        vertical-align: top;\n",
       "    }\n",
       "\n",
       "    .dataframe thead th {\n",
       "        text-align: right;\n",
       "    }\n",
       "</style>\n",
       "<table border=\"1\" class=\"dataframe\">\n",
       "  <thead>\n",
       "    <tr style=\"text-align: right;\">\n",
       "      <th></th>\n",
       "      <th>AVERAGE.ACCT.AGE</th>\n",
       "      <th>Aadhar_flag</th>\n",
       "      <th>CREDIT.HISTORY.LENGTH</th>\n",
       "      <th>Current_pincode_ID</th>\n",
       "      <th>DELINQUENT.ACCTS.IN.LAST.SIX.MONTHS</th>\n",
       "      <th>Date.of.Birth</th>\n",
       "      <th>DisbursalDate</th>\n",
       "      <th>Driving_flag</th>\n",
       "      <th>Employee_code_ID</th>\n",
       "      <th>Employment.Type</th>\n",
       "      <th>...</th>\n",
       "      <th>UniqueID</th>\n",
       "      <th>VoterID_flag</th>\n",
       "      <th>asset_cost</th>\n",
       "      <th>branch_id</th>\n",
       "      <th>data</th>\n",
       "      <th>disbursed_amount</th>\n",
       "      <th>loan_default</th>\n",
       "      <th>ltv</th>\n",
       "      <th>manufacturer_id</th>\n",
       "      <th>supplier_id</th>\n",
       "    </tr>\n",
       "  </thead>\n",
       "  <tbody>\n",
       "    <tr>\n",
       "      <th>0</th>\n",
       "      <td>0</td>\n",
       "      <td>1</td>\n",
       "      <td>0yrs 0mon</td>\n",
       "      <td>1441</td>\n",
       "      <td>0</td>\n",
       "      <td>01-01-84</td>\n",
       "      <td>03-08-18</td>\n",
       "      <td>0</td>\n",
       "      <td>1998</td>\n",
       "      <td>Salaried</td>\n",
       "      <td>...</td>\n",
       "      <td>420825</td>\n",
       "      <td>0</td>\n",
       "      <td>58400</td>\n",
       "      <td>67</td>\n",
       "      <td>train</td>\n",
       "      <td>50578</td>\n",
       "      <td>0.0</td>\n",
       "      <td>89.55</td>\n",
       "      <td>45</td>\n",
       "      <td>22807</td>\n",
       "    </tr>\n",
       "    <tr>\n",
       "      <th>1</th>\n",
       "      <td>23</td>\n",
       "      <td>1</td>\n",
       "      <td>1yrs 11mon</td>\n",
       "      <td>1502</td>\n",
       "      <td>1</td>\n",
       "      <td>31-07-85</td>\n",
       "      <td>26-09-18</td>\n",
       "      <td>0</td>\n",
       "      <td>1998</td>\n",
       "      <td>Self employed</td>\n",
       "      <td>...</td>\n",
       "      <td>537409</td>\n",
       "      <td>0</td>\n",
       "      <td>65550</td>\n",
       "      <td>67</td>\n",
       "      <td>train</td>\n",
       "      <td>47145</td>\n",
       "      <td>1.0</td>\n",
       "      <td>73.23</td>\n",
       "      <td>45</td>\n",
       "      <td>22807</td>\n",
       "    </tr>\n",
       "    <tr>\n",
       "      <th>2</th>\n",
       "      <td>0</td>\n",
       "      <td>1</td>\n",
       "      <td>0yrs 0mon</td>\n",
       "      <td>1497</td>\n",
       "      <td>0</td>\n",
       "      <td>24-08-85</td>\n",
       "      <td>01-08-18</td>\n",
       "      <td>0</td>\n",
       "      <td>1998</td>\n",
       "      <td>Self employed</td>\n",
       "      <td>...</td>\n",
       "      <td>417566</td>\n",
       "      <td>0</td>\n",
       "      <td>61360</td>\n",
       "      <td>67</td>\n",
       "      <td>train</td>\n",
       "      <td>53278</td>\n",
       "      <td>0.0</td>\n",
       "      <td>89.63</td>\n",
       "      <td>45</td>\n",
       "      <td>22807</td>\n",
       "    </tr>\n",
       "    <tr>\n",
       "      <th>3</th>\n",
       "      <td>8</td>\n",
       "      <td>1</td>\n",
       "      <td>1yrs 3mon</td>\n",
       "      <td>1501</td>\n",
       "      <td>0</td>\n",
       "      <td>30-12-93</td>\n",
       "      <td>26-10-18</td>\n",
       "      <td>0</td>\n",
       "      <td>1998</td>\n",
       "      <td>Self employed</td>\n",
       "      <td>...</td>\n",
       "      <td>624493</td>\n",
       "      <td>0</td>\n",
       "      <td>66113</td>\n",
       "      <td>67</td>\n",
       "      <td>train</td>\n",
       "      <td>57513</td>\n",
       "      <td>1.0</td>\n",
       "      <td>88.48</td>\n",
       "      <td>45</td>\n",
       "      <td>22807</td>\n",
       "    </tr>\n",
       "    <tr>\n",
       "      <th>4</th>\n",
       "      <td>0</td>\n",
       "      <td>1</td>\n",
       "      <td>0yrs 0mon</td>\n",
       "      <td>1495</td>\n",
       "      <td>0</td>\n",
       "      <td>09-12-77</td>\n",
       "      <td>26-09-18</td>\n",
       "      <td>0</td>\n",
       "      <td>1998</td>\n",
       "      <td>Self employed</td>\n",
       "      <td>...</td>\n",
       "      <td>539055</td>\n",
       "      <td>0</td>\n",
       "      <td>60300</td>\n",
       "      <td>67</td>\n",
       "      <td>train</td>\n",
       "      <td>52378</td>\n",
       "      <td>1.0</td>\n",
       "      <td>88.39</td>\n",
       "      <td>45</td>\n",
       "      <td>22807</td>\n",
       "    </tr>\n",
       "  </tbody>\n",
       "</table>\n",
       "<p>5 rows × 42 columns</p>\n",
       "</div>"
      ],
      "text/plain": [
       "   AVERAGE.ACCT.AGE  Aadhar_flag CREDIT.HISTORY.LENGTH  Current_pincode_ID  \\\n",
       "0                 0            1             0yrs 0mon                1441   \n",
       "1                23            1            1yrs 11mon                1502   \n",
       "2                 0            1             0yrs 0mon                1497   \n",
       "3                 8            1             1yrs 3mon                1501   \n",
       "4                 0            1             0yrs 0mon                1495   \n",
       "\n",
       "   DELINQUENT.ACCTS.IN.LAST.SIX.MONTHS Date.of.Birth DisbursalDate  \\\n",
       "0                                    0      01-01-84      03-08-18   \n",
       "1                                    1      31-07-85      26-09-18   \n",
       "2                                    0      24-08-85      01-08-18   \n",
       "3                                    0      30-12-93      26-10-18   \n",
       "4                                    0      09-12-77      26-09-18   \n",
       "\n",
       "   Driving_flag  Employee_code_ID Employment.Type     ...       UniqueID  \\\n",
       "0             0              1998        Salaried     ...         420825   \n",
       "1             0              1998   Self employed     ...         537409   \n",
       "2             0              1998   Self employed     ...         417566   \n",
       "3             0              1998   Self employed     ...         624493   \n",
       "4             0              1998   Self employed     ...         539055   \n",
       "\n",
       "   VoterID_flag  asset_cost  branch_id   data disbursed_amount  loan_default  \\\n",
       "0             0       58400         67  train            50578           0.0   \n",
       "1             0       65550         67  train            47145           1.0   \n",
       "2             0       61360         67  train            53278           0.0   \n",
       "3             0       66113         67  train            57513           1.0   \n",
       "4             0       60300         67  train            52378           1.0   \n",
       "\n",
       "     ltv  manufacturer_id  supplier_id  \n",
       "0  89.55               45        22807  \n",
       "1  73.23               45        22807  \n",
       "2  89.63               45        22807  \n",
       "3  88.48               45        22807  \n",
       "4  88.39               45        22807  \n",
       "\n",
       "[5 rows x 42 columns]"
      ]
     },
     "execution_count": 20,
     "metadata": {},
     "output_type": "execute_result"
    }
   ],
   "source": [
    "all_data.head()"
   ]
  },
  {
   "cell_type": "code",
   "execution_count": 19,
   "metadata": {},
   "outputs": [
    {
     "name": "stderr",
     "output_type": "stream",
     "text": [
      "G:\\Data Sci\\Python\\Anaconda3\\lib\\site-packages\\ipykernel_launcher.py:1: FutureWarning: currently extract(expand=None) means expand=False (return Index/Series/DataFrame) but in a future version of pandas this will be changed to expand=True (return DataFrame)\n",
      "  \"\"\"Entry point for launching an IPython kernel.\n"
     ]
    }
   ],
   "source": [
    "all_data['CREDIT.HISTORY.LENGTH.yr']=pd.to_numeric(all_data['CREDIT.HISTORY.LENGTH'].str.extract('(\\d+)'))"
   ]
  },
  {
   "cell_type": "code",
   "execution_count": 20,
   "metadata": {},
   "outputs": [
    {
     "name": "stderr",
     "output_type": "stream",
     "text": [
      "G:\\Data Sci\\Python\\Anaconda3\\lib\\site-packages\\ipykernel_launcher.py:1: FutureWarning: currently extract(expand=None) means expand=False (return Index/Series/DataFrame) but in a future version of pandas this will be changed to expand=True (return DataFrame)\n",
      "  \"\"\"Entry point for launching an IPython kernel.\n"
     ]
    }
   ],
   "source": [
    "all_data['CREDIT.HISTORY.LENGTH.mon']=all_data['CREDIT.HISTORY.LENGTH'].str.extract(r'\\b(\\w+)$')"
   ]
  },
  {
   "cell_type": "code",
   "execution_count": 21,
   "metadata": {},
   "outputs": [],
   "source": [
    "all_data['CREDIT.HISTORY.LENGTH.mon']=pd.to_numeric(all_data['CREDIT.HISTORY.LENGTH.mon'].str.replace('mon',''))"
   ]
  },
  {
   "cell_type": "code",
   "execution_count": 22,
   "metadata": {},
   "outputs": [],
   "source": [
    "all_data['CREDIT.HISTORY.LENGTH']=(all_data['CREDIT.HISTORY.LENGTH.yr']*12)+all_data['CREDIT.HISTORY.LENGTH.mon']"
   ]
  },
  {
   "cell_type": "code",
   "execution_count": 23,
   "metadata": {},
   "outputs": [],
   "source": [
    "del all_data['CREDIT.HISTORY.LENGTH.yr']\n",
    "del all_data['CREDIT.HISTORY.LENGTH.mon']"
   ]
  },
  {
   "cell_type": "code",
   "execution_count": 24,
   "metadata": {},
   "outputs": [
    {
     "data": {
      "text/plain": [
       "No Bureau History Available                                174843\n",
       "C-Very Low Risk                                             23870\n",
       "A-Very Low Risk                                             21683\n",
       "D-Very Low Risk                                             16472\n",
       "B-Very Low Risk                                             13696\n",
       "M-Very High Risk                                            12808\n",
       "F-Low Risk                                                  12176\n",
       "K-High Risk                                                 12141\n",
       "H-Medium Risk                                               10142\n",
       "E-Low Risk                                                   8393\n",
       "I-Medium Risk                                                8260\n",
       "G-Low Risk                                                   5795\n",
       "J-High Risk                                                  5526\n",
       "Not Scored: Sufficient History Not Available                 5025\n",
       "Not Scored: Not Enough Info available on the customer        4940\n",
       "Not Scored: No Activity seen on the customer (Inactive)      4246\n",
       "Not Scored: No Updates available in last 36 months           2299\n",
       "L-Very High Risk                                             1782\n",
       "Not Scored: Only a Guarantor                                 1446\n",
       "Not Scored: More than 50 active Accounts found                  3\n",
       "Name: PERFORM_CNS.SCORE.DESCRIPTION, dtype: int64"
      ]
     },
     "execution_count": 24,
     "metadata": {},
     "output_type": "execute_result"
    }
   ],
   "source": [
    "all_data['PERFORM_CNS.SCORE.DESCRIPTION'].value_counts()"
   ]
  },
  {
   "cell_type": "code",
   "execution_count": 27,
   "metadata": {},
   "outputs": [],
   "source": [
    "all_data['DisbursalDate']=pd.to_datetime(all_data['DisbursalDate']).dt.strftime(\"%Y%m%d\")"
   ]
  },
  {
   "cell_type": "code",
   "execution_count": 28,
   "metadata": {},
   "outputs": [],
   "source": [
    "all_data['DisbursalDate']=pd.to_numeric(all_data['DisbursalDate'])"
   ]
  },
  {
   "cell_type": "code",
   "execution_count": 29,
   "metadata": {},
   "outputs": [],
   "source": [
    "all_data['Date.of.Birth']=pd.to_datetime(all_data['Date.of.Birth']).dt.strftime(\"%Y%m%d\")"
   ]
  },
  {
   "cell_type": "code",
   "execution_count": 30,
   "metadata": {},
   "outputs": [],
   "source": [
    "all_data['Date.of.Birth']=pd.to_numeric(all_data['Date.of.Birth'])"
   ]
  },
  {
   "cell_type": "code",
   "execution_count": 31,
   "metadata": {},
   "outputs": [],
   "source": [
    "cat_vars=all_data.select_dtypes(['object']).columns"
   ]
  },
  {
   "cell_type": "code",
   "execution_count": 32,
   "metadata": {},
   "outputs": [
    {
     "data": {
      "text/plain": [
       "Index(['Employment.Type', 'PERFORM_CNS.SCORE.DESCRIPTION', 'data'], dtype='object')"
      ]
     },
     "execution_count": 32,
     "metadata": {},
     "output_type": "execute_result"
    }
   ],
   "source": [
    "cat_vars"
   ]
  },
  {
   "cell_type": "code",
   "execution_count": 33,
   "metadata": {},
   "outputs": [
    {
     "name": "stdout",
     "output_type": "stream",
     "text": [
      "Employment.Type\n",
      "PERFORM_CNS.SCORE.DESCRIPTION\n"
     ]
    }
   ],
   "source": [
    "for col in cat_vars[:-1]:\n",
    "    dummy=pd.get_dummies(all_data[col],drop_first=True,prefix=col)\n",
    "    all_data=pd.concat([all_data,dummy],axis=1)\n",
    "    del all_data[col]\n",
    "    print(col)\n",
    "del dummy"
   ]
  },
  {
   "cell_type": "code",
   "execution_count": 34,
   "metadata": {},
   "outputs": [
    {
     "data": {
      "text/plain": [
       "AVERAGE.ACCT.AGE                                                                           int64\n",
       "Aadhar_flag                                                                                int64\n",
       "CREDIT.HISTORY.LENGTH                                                                      int64\n",
       "Current_pincode_ID                                                                         int64\n",
       "DELINQUENT.ACCTS.IN.LAST.SIX.MONTHS                                                        int64\n",
       "Date.of.Birth                                                                              int64\n",
       "DisbursalDate                                                                              int64\n",
       "Driving_flag                                                                               int64\n",
       "Employee_code_ID                                                                           int64\n",
       "MobileNo_Avl_Flag                                                                          int64\n",
       "NEW.ACCTS.IN.LAST.SIX.MONTHS                                                               int64\n",
       "NO.OF_INQUIRIES                                                                            int64\n",
       "PAN_flag                                                                                   int64\n",
       "PERFORM_CNS.SCORE                                                                          int64\n",
       "PRI.ACTIVE.ACCTS                                                                           int64\n",
       "PRI.CURRENT.BALANCE                                                                        int64\n",
       "PRI.DISBURSED.AMOUNT                                                                       int64\n",
       "PRI.NO.OF.ACCTS                                                                            int64\n",
       "PRI.OVERDUE.ACCTS                                                                          int64\n",
       "PRI.SANCTIONED.AMOUNT                                                                      int64\n",
       "PRIMARY.INSTAL.AMT                                                                         int64\n",
       "Passport_flag                                                                              int64\n",
       "SEC.ACTIVE.ACCTS                                                                           int64\n",
       "SEC.CURRENT.BALANCE                                                                        int64\n",
       "SEC.DISBURSED.AMOUNT                                                                       int64\n",
       "SEC.INSTAL.AMT                                                                             int64\n",
       "SEC.NO.OF.ACCTS                                                                            int64\n",
       "SEC.OVERDUE.ACCTS                                                                          int64\n",
       "SEC.SANCTIONED.AMOUNT                                                                      int64\n",
       "State_ID                                                                                   int64\n",
       "UniqueID                                                                                   int64\n",
       "VoterID_flag                                                                               int64\n",
       "asset_cost                                                                                 int64\n",
       "branch_id                                                                                  int64\n",
       "data                                                                                      object\n",
       "disbursed_amount                                                                           int64\n",
       "loan_default                                                                             float64\n",
       "ltv                                                                                      float64\n",
       "manufacturer_id                                                                            int64\n",
       "supplier_id                                                                                int64\n",
       "Employment.Type_Self employed                                                              uint8\n",
       "PERFORM_CNS.SCORE.DESCRIPTION_B-Very Low Risk                                              uint8\n",
       "PERFORM_CNS.SCORE.DESCRIPTION_C-Very Low Risk                                              uint8\n",
       "PERFORM_CNS.SCORE.DESCRIPTION_D-Very Low Risk                                              uint8\n",
       "PERFORM_CNS.SCORE.DESCRIPTION_E-Low Risk                                                   uint8\n",
       "PERFORM_CNS.SCORE.DESCRIPTION_F-Low Risk                                                   uint8\n",
       "PERFORM_CNS.SCORE.DESCRIPTION_G-Low Risk                                                   uint8\n",
       "PERFORM_CNS.SCORE.DESCRIPTION_H-Medium Risk                                                uint8\n",
       "PERFORM_CNS.SCORE.DESCRIPTION_I-Medium Risk                                                uint8\n",
       "PERFORM_CNS.SCORE.DESCRIPTION_J-High Risk                                                  uint8\n",
       "PERFORM_CNS.SCORE.DESCRIPTION_K-High Risk                                                  uint8\n",
       "PERFORM_CNS.SCORE.DESCRIPTION_L-Very High Risk                                             uint8\n",
       "PERFORM_CNS.SCORE.DESCRIPTION_M-Very High Risk                                             uint8\n",
       "PERFORM_CNS.SCORE.DESCRIPTION_No Bureau History Available                                  uint8\n",
       "PERFORM_CNS.SCORE.DESCRIPTION_Not Scored: More than 50 active Accounts found               uint8\n",
       "PERFORM_CNS.SCORE.DESCRIPTION_Not Scored: No Activity seen on the customer (Inactive)      uint8\n",
       "PERFORM_CNS.SCORE.DESCRIPTION_Not Scored: No Updates available in last 36 months           uint8\n",
       "PERFORM_CNS.SCORE.DESCRIPTION_Not Scored: Not Enough Info available on the customer        uint8\n",
       "PERFORM_CNS.SCORE.DESCRIPTION_Not Scored: Only a Guarantor                                 uint8\n",
       "PERFORM_CNS.SCORE.DESCRIPTION_Not Scored: Sufficient History Not Available                 uint8\n",
       "dtype: object"
      ]
     },
     "execution_count": 34,
     "metadata": {},
     "output_type": "execute_result"
    }
   ],
   "source": [
    "all_data.dtypes"
   ]
  },
  {
   "cell_type": "code",
   "execution_count": 35,
   "metadata": {},
   "outputs": [
    {
     "data": {
      "text/plain": [
       "0.0    182543\n",
       "1.0     50611\n",
       "Name: loan_default, dtype: int64"
      ]
     },
     "execution_count": 35,
     "metadata": {},
     "output_type": "execute_result"
    }
   ],
   "source": [
    "all_data['loan_default'].value_counts()"
   ]
  },
  {
   "cell_type": "code",
   "execution_count": 36,
   "metadata": {
    "scrolled": true
   },
   "outputs": [
    {
     "data": {
      "text/plain": [
       "AVERAGE.ACCT.AGE                                                                              0\n",
       "Aadhar_flag                                                                                   0\n",
       "CREDIT.HISTORY.LENGTH                                                                         0\n",
       "Current_pincode_ID                                                                            0\n",
       "DELINQUENT.ACCTS.IN.LAST.SIX.MONTHS                                                           0\n",
       "Date.of.Birth                                                                                 0\n",
       "DisbursalDate                                                                                 0\n",
       "Driving_flag                                                                                  0\n",
       "Employee_code_ID                                                                              0\n",
       "MobileNo_Avl_Flag                                                                             0\n",
       "NEW.ACCTS.IN.LAST.SIX.MONTHS                                                                  0\n",
       "NO.OF_INQUIRIES                                                                               0\n",
       "PAN_flag                                                                                      0\n",
       "PERFORM_CNS.SCORE                                                                             0\n",
       "PRI.ACTIVE.ACCTS                                                                              0\n",
       "PRI.CURRENT.BALANCE                                                                           0\n",
       "PRI.DISBURSED.AMOUNT                                                                          0\n",
       "PRI.NO.OF.ACCTS                                                                               0\n",
       "PRI.OVERDUE.ACCTS                                                                             0\n",
       "PRI.SANCTIONED.AMOUNT                                                                         0\n",
       "PRIMARY.INSTAL.AMT                                                                            0\n",
       "Passport_flag                                                                                 0\n",
       "SEC.ACTIVE.ACCTS                                                                              0\n",
       "SEC.CURRENT.BALANCE                                                                           0\n",
       "SEC.DISBURSED.AMOUNT                                                                          0\n",
       "SEC.INSTAL.AMT                                                                                0\n",
       "SEC.NO.OF.ACCTS                                                                               0\n",
       "SEC.OVERDUE.ACCTS                                                                             0\n",
       "SEC.SANCTIONED.AMOUNT                                                                         0\n",
       "State_ID                                                                                      0\n",
       "UniqueID                                                                                      0\n",
       "VoterID_flag                                                                                  0\n",
       "asset_cost                                                                                    0\n",
       "branch_id                                                                                     0\n",
       "data                                                                                          0\n",
       "disbursed_amount                                                                              0\n",
       "loan_default                                                                             112392\n",
       "ltv                                                                                           0\n",
       "manufacturer_id                                                                               0\n",
       "supplier_id                                                                                   0\n",
       "Employment.Type_Self employed                                                                 0\n",
       "PERFORM_CNS.SCORE.DESCRIPTION_B-Very Low Risk                                                 0\n",
       "PERFORM_CNS.SCORE.DESCRIPTION_C-Very Low Risk                                                 0\n",
       "PERFORM_CNS.SCORE.DESCRIPTION_D-Very Low Risk                                                 0\n",
       "PERFORM_CNS.SCORE.DESCRIPTION_E-Low Risk                                                      0\n",
       "PERFORM_CNS.SCORE.DESCRIPTION_F-Low Risk                                                      0\n",
       "PERFORM_CNS.SCORE.DESCRIPTION_G-Low Risk                                                      0\n",
       "PERFORM_CNS.SCORE.DESCRIPTION_H-Medium Risk                                                   0\n",
       "PERFORM_CNS.SCORE.DESCRIPTION_I-Medium Risk                                                   0\n",
       "PERFORM_CNS.SCORE.DESCRIPTION_J-High Risk                                                     0\n",
       "PERFORM_CNS.SCORE.DESCRIPTION_K-High Risk                                                     0\n",
       "PERFORM_CNS.SCORE.DESCRIPTION_L-Very High Risk                                                0\n",
       "PERFORM_CNS.SCORE.DESCRIPTION_M-Very High Risk                                                0\n",
       "PERFORM_CNS.SCORE.DESCRIPTION_No Bureau History Available                                     0\n",
       "PERFORM_CNS.SCORE.DESCRIPTION_Not Scored: More than 50 active Accounts found                  0\n",
       "PERFORM_CNS.SCORE.DESCRIPTION_Not Scored: No Activity seen on the customer (Inactive)         0\n",
       "PERFORM_CNS.SCORE.DESCRIPTION_Not Scored: No Updates available in last 36 months              0\n",
       "PERFORM_CNS.SCORE.DESCRIPTION_Not Scored: Not Enough Info available on the customer           0\n",
       "PERFORM_CNS.SCORE.DESCRIPTION_Not Scored: Only a Guarantor                                    0\n",
       "PERFORM_CNS.SCORE.DESCRIPTION_Not Scored: Sufficient History Not Available                    0\n",
       "dtype: int64"
      ]
     },
     "execution_count": 36,
     "metadata": {},
     "output_type": "execute_result"
    }
   ],
   "source": [
    "all_data.isnull().sum()"
   ]
  },
  {
   "cell_type": "code",
   "execution_count": 37,
   "metadata": {},
   "outputs": [],
   "source": [
    "del all_data['UniqueID']"
   ]
  },
  {
   "cell_type": "code",
   "execution_count": 38,
   "metadata": {},
   "outputs": [],
   "source": [
    "train=all_data[all_data['data']=='train']"
   ]
  },
  {
   "cell_type": "code",
   "execution_count": 39,
   "metadata": {},
   "outputs": [],
   "source": [
    "del train['data']"
   ]
  },
  {
   "cell_type": "code",
   "execution_count": 40,
   "metadata": {},
   "outputs": [],
   "source": [
    "test=all_data[all_data['data']=='test']"
   ]
  },
  {
   "cell_type": "code",
   "execution_count": 41,
   "metadata": {},
   "outputs": [
    {
     "name": "stderr",
     "output_type": "stream",
     "text": [
      "G:\\Data Sci\\Python\\Anaconda3\\lib\\site-packages\\ipykernel_launcher.py:1: SettingWithCopyWarning: \n",
      "A value is trying to be set on a copy of a slice from a DataFrame\n",
      "\n",
      "See the caveats in the documentation: http://pandas.pydata.org/pandas-docs/stable/indexing.html#indexing-view-versus-copy\n",
      "  \"\"\"Entry point for launching an IPython kernel.\n"
     ]
    }
   ],
   "source": [
    "test.drop(['loan_default','data'],axis=1,inplace=True)"
   ]
  },
  {
   "cell_type": "code",
   "execution_count": 43,
   "metadata": {},
   "outputs": [
    {
     "data": {
      "text/html": [
       "<div>\n",
       "<style scoped>\n",
       "    .dataframe tbody tr th:only-of-type {\n",
       "        vertical-align: middle;\n",
       "    }\n",
       "\n",
       "    .dataframe tbody tr th {\n",
       "        vertical-align: top;\n",
       "    }\n",
       "\n",
       "    .dataframe thead th {\n",
       "        text-align: right;\n",
       "    }\n",
       "</style>\n",
       "<table border=\"1\" class=\"dataframe\">\n",
       "  <thead>\n",
       "    <tr style=\"text-align: right;\">\n",
       "      <th></th>\n",
       "      <th>AVERAGE.ACCT.AGE</th>\n",
       "      <th>Aadhar_flag</th>\n",
       "      <th>CREDIT.HISTORY.LENGTH</th>\n",
       "      <th>Current_pincode_ID</th>\n",
       "      <th>DELINQUENT.ACCTS.IN.LAST.SIX.MONTHS</th>\n",
       "      <th>Date.of.Birth</th>\n",
       "      <th>DisbursalDate</th>\n",
       "      <th>Driving_flag</th>\n",
       "      <th>Employee_code_ID</th>\n",
       "      <th>MobileNo_Avl_Flag</th>\n",
       "      <th>...</th>\n",
       "      <th>PERFORM_CNS.SCORE.DESCRIPTION_K-High Risk</th>\n",
       "      <th>PERFORM_CNS.SCORE.DESCRIPTION_L-Very High Risk</th>\n",
       "      <th>PERFORM_CNS.SCORE.DESCRIPTION_M-Very High Risk</th>\n",
       "      <th>PERFORM_CNS.SCORE.DESCRIPTION_No Bureau History Available</th>\n",
       "      <th>PERFORM_CNS.SCORE.DESCRIPTION_Not Scored: More than 50 active Accounts found</th>\n",
       "      <th>PERFORM_CNS.SCORE.DESCRIPTION_Not Scored: No Activity seen on the customer (Inactive)</th>\n",
       "      <th>PERFORM_CNS.SCORE.DESCRIPTION_Not Scored: No Updates available in last 36 months</th>\n",
       "      <th>PERFORM_CNS.SCORE.DESCRIPTION_Not Scored: Not Enough Info available on the customer</th>\n",
       "      <th>PERFORM_CNS.SCORE.DESCRIPTION_Not Scored: Only a Guarantor</th>\n",
       "      <th>PERFORM_CNS.SCORE.DESCRIPTION_Not Scored: Sufficient History Not Available</th>\n",
       "    </tr>\n",
       "  </thead>\n",
       "  <tbody>\n",
       "    <tr>\n",
       "      <th>0</th>\n",
       "      <td>0</td>\n",
       "      <td>1</td>\n",
       "      <td>0</td>\n",
       "      <td>1441</td>\n",
       "      <td>0</td>\n",
       "      <td>19840101</td>\n",
       "      <td>20180308</td>\n",
       "      <td>0</td>\n",
       "      <td>1998</td>\n",
       "      <td>1</td>\n",
       "      <td>...</td>\n",
       "      <td>0</td>\n",
       "      <td>0</td>\n",
       "      <td>0</td>\n",
       "      <td>1</td>\n",
       "      <td>0</td>\n",
       "      <td>0</td>\n",
       "      <td>0</td>\n",
       "      <td>0</td>\n",
       "      <td>0</td>\n",
       "      <td>0</td>\n",
       "    </tr>\n",
       "    <tr>\n",
       "      <th>1</th>\n",
       "      <td>23</td>\n",
       "      <td>1</td>\n",
       "      <td>23</td>\n",
       "      <td>1502</td>\n",
       "      <td>1</td>\n",
       "      <td>19850731</td>\n",
       "      <td>20180926</td>\n",
       "      <td>0</td>\n",
       "      <td>1998</td>\n",
       "      <td>1</td>\n",
       "      <td>...</td>\n",
       "      <td>0</td>\n",
       "      <td>0</td>\n",
       "      <td>0</td>\n",
       "      <td>0</td>\n",
       "      <td>0</td>\n",
       "      <td>0</td>\n",
       "      <td>0</td>\n",
       "      <td>0</td>\n",
       "      <td>0</td>\n",
       "      <td>0</td>\n",
       "    </tr>\n",
       "    <tr>\n",
       "      <th>2</th>\n",
       "      <td>0</td>\n",
       "      <td>1</td>\n",
       "      <td>0</td>\n",
       "      <td>1497</td>\n",
       "      <td>0</td>\n",
       "      <td>19850824</td>\n",
       "      <td>20180108</td>\n",
       "      <td>0</td>\n",
       "      <td>1998</td>\n",
       "      <td>1</td>\n",
       "      <td>...</td>\n",
       "      <td>0</td>\n",
       "      <td>0</td>\n",
       "      <td>0</td>\n",
       "      <td>1</td>\n",
       "      <td>0</td>\n",
       "      <td>0</td>\n",
       "      <td>0</td>\n",
       "      <td>0</td>\n",
       "      <td>0</td>\n",
       "      <td>0</td>\n",
       "    </tr>\n",
       "    <tr>\n",
       "      <th>3</th>\n",
       "      <td>8</td>\n",
       "      <td>1</td>\n",
       "      <td>15</td>\n",
       "      <td>1501</td>\n",
       "      <td>0</td>\n",
       "      <td>19931230</td>\n",
       "      <td>20181026</td>\n",
       "      <td>0</td>\n",
       "      <td>1998</td>\n",
       "      <td>1</td>\n",
       "      <td>...</td>\n",
       "      <td>0</td>\n",
       "      <td>1</td>\n",
       "      <td>0</td>\n",
       "      <td>0</td>\n",
       "      <td>0</td>\n",
       "      <td>0</td>\n",
       "      <td>0</td>\n",
       "      <td>0</td>\n",
       "      <td>0</td>\n",
       "      <td>0</td>\n",
       "    </tr>\n",
       "    <tr>\n",
       "      <th>4</th>\n",
       "      <td>0</td>\n",
       "      <td>1</td>\n",
       "      <td>0</td>\n",
       "      <td>1495</td>\n",
       "      <td>0</td>\n",
       "      <td>19770912</td>\n",
       "      <td>20180926</td>\n",
       "      <td>0</td>\n",
       "      <td>1998</td>\n",
       "      <td>1</td>\n",
       "      <td>...</td>\n",
       "      <td>0</td>\n",
       "      <td>0</td>\n",
       "      <td>0</td>\n",
       "      <td>1</td>\n",
       "      <td>0</td>\n",
       "      <td>0</td>\n",
       "      <td>0</td>\n",
       "      <td>0</td>\n",
       "      <td>0</td>\n",
       "      <td>0</td>\n",
       "    </tr>\n",
       "  </tbody>\n",
       "</table>\n",
       "<p>5 rows × 58 columns</p>\n",
       "</div>"
      ],
      "text/plain": [
       "   AVERAGE.ACCT.AGE  Aadhar_flag  CREDIT.HISTORY.LENGTH  Current_pincode_ID  \\\n",
       "0                 0            1                      0                1441   \n",
       "1                23            1                     23                1502   \n",
       "2                 0            1                      0                1497   \n",
       "3                 8            1                     15                1501   \n",
       "4                 0            1                      0                1495   \n",
       "\n",
       "   DELINQUENT.ACCTS.IN.LAST.SIX.MONTHS  Date.of.Birth  DisbursalDate  \\\n",
       "0                                    0       19840101       20180308   \n",
       "1                                    1       19850731       20180926   \n",
       "2                                    0       19850824       20180108   \n",
       "3                                    0       19931230       20181026   \n",
       "4                                    0       19770912       20180926   \n",
       "\n",
       "   Driving_flag  Employee_code_ID  MobileNo_Avl_Flag  \\\n",
       "0             0              1998                  1   \n",
       "1             0              1998                  1   \n",
       "2             0              1998                  1   \n",
       "3             0              1998                  1   \n",
       "4             0              1998                  1   \n",
       "\n",
       "                                      ...                                      \\\n",
       "0                                     ...                                       \n",
       "1                                     ...                                       \n",
       "2                                     ...                                       \n",
       "3                                     ...                                       \n",
       "4                                     ...                                       \n",
       "\n",
       "   PERFORM_CNS.SCORE.DESCRIPTION_K-High Risk  \\\n",
       "0                                          0   \n",
       "1                                          0   \n",
       "2                                          0   \n",
       "3                                          0   \n",
       "4                                          0   \n",
       "\n",
       "   PERFORM_CNS.SCORE.DESCRIPTION_L-Very High Risk  \\\n",
       "0                                               0   \n",
       "1                                               0   \n",
       "2                                               0   \n",
       "3                                               1   \n",
       "4                                               0   \n",
       "\n",
       "   PERFORM_CNS.SCORE.DESCRIPTION_M-Very High Risk  \\\n",
       "0                                               0   \n",
       "1                                               0   \n",
       "2                                               0   \n",
       "3                                               0   \n",
       "4                                               0   \n",
       "\n",
       "   PERFORM_CNS.SCORE.DESCRIPTION_No Bureau History Available  \\\n",
       "0                                                  1           \n",
       "1                                                  0           \n",
       "2                                                  1           \n",
       "3                                                  0           \n",
       "4                                                  1           \n",
       "\n",
       "   PERFORM_CNS.SCORE.DESCRIPTION_Not Scored: More than 50 active Accounts found  \\\n",
       "0                                                  0                              \n",
       "1                                                  0                              \n",
       "2                                                  0                              \n",
       "3                                                  0                              \n",
       "4                                                  0                              \n",
       "\n",
       "   PERFORM_CNS.SCORE.DESCRIPTION_Not Scored: No Activity seen on the customer (Inactive)  \\\n",
       "0                                                  0                                       \n",
       "1                                                  0                                       \n",
       "2                                                  0                                       \n",
       "3                                                  0                                       \n",
       "4                                                  0                                       \n",
       "\n",
       "   PERFORM_CNS.SCORE.DESCRIPTION_Not Scored: No Updates available in last 36 months  \\\n",
       "0                                                  0                                  \n",
       "1                                                  0                                  \n",
       "2                                                  0                                  \n",
       "3                                                  0                                  \n",
       "4                                                  0                                  \n",
       "\n",
       "   PERFORM_CNS.SCORE.DESCRIPTION_Not Scored: Not Enough Info available on the customer  \\\n",
       "0                                                  0                                     \n",
       "1                                                  0                                     \n",
       "2                                                  0                                     \n",
       "3                                                  0                                     \n",
       "4                                                  0                                     \n",
       "\n",
       "   PERFORM_CNS.SCORE.DESCRIPTION_Not Scored: Only a Guarantor  \\\n",
       "0                                                  0            \n",
       "1                                                  0            \n",
       "2                                                  0            \n",
       "3                                                  0            \n",
       "4                                                  0            \n",
       "\n",
       "   PERFORM_CNS.SCORE.DESCRIPTION_Not Scored: Sufficient History Not Available  \n",
       "0                                                  0                           \n",
       "1                                                  0                           \n",
       "2                                                  0                           \n",
       "3                                                  0                           \n",
       "4                                                  0                           \n",
       "\n",
       "[5 rows x 58 columns]"
      ]
     },
     "execution_count": 43,
     "metadata": {},
     "output_type": "execute_result"
    }
   ],
   "source": [
    "train.head()"
   ]
  },
  {
   "cell_type": "code",
   "execution_count": 42,
   "metadata": {},
   "outputs": [],
   "source": [
    "del all_data"
   ]
  },
  {
   "cell_type": "code",
   "execution_count": 43,
   "metadata": {},
   "outputs": [],
   "source": [
    "from sklearn.model_selection import RandomizedSearchCV\n",
    "from xgboost.sklearn import XGBClassifier"
   ]
  },
  {
   "cell_type": "code",
   "execution_count": 44,
   "metadata": {},
   "outputs": [],
   "source": [
    "xgb_params = {  \n",
    "                \"learning_rate\":[0.01,0.05,0.1,0.3,0.5],\n",
    "                \"gamma\":[i/10.0 for i in range(0,5)],\n",
    "                \"max_depth\": [2,3,4,5,6,7,8],\n",
    "                \"min_child_weight\":[1,2,5,10],\n",
    "                \"max_delta_step\":[0,1,2,5,10],\n",
    "                \"subsample\":[i/10.0 for i in range(5,10)],\n",
    "                \"colsample_bytree\":[i/10.0 for i in range(5,10)],\n",
    "                \"colsample_bylevel\":[i/10.0 for i in range(5,10)],\n",
    "                \"reg_lambda\":[1e-5, 1e-2, 0.1, 1, 100], \n",
    "                \"reg_alpha\":[1e-5, 1e-2, 0.1, 1, 100],\n",
    "                \"scale_pos_weight\":[1,2,3,4,5,6,7,8,9],\n",
    "                \"n_estimators\":[100,500,700,1000]\n",
    "             }"
   ]
  },
  {
   "cell_type": "code",
   "execution_count": 45,
   "metadata": {},
   "outputs": [],
   "source": [
    "xgb=XGBClassifier(objective='binary:logistic')"
   ]
  },
  {
   "cell_type": "code",
   "execution_count": 46,
   "metadata": {},
   "outputs": [],
   "source": [
    "n_iter=10\n",
    "\n",
    "random_search=RandomizedSearchCV(xgb,n_jobs=-1,cv=5,n_iter=n_iter,scoring='roc_auc',\n",
    "                                 param_distributions=xgb_params)"
   ]
  },
  {
   "cell_type": "code",
   "execution_count": 47,
   "metadata": {},
   "outputs": [],
   "source": [
    "x_train=train.drop('loan_default',axis=1)\n",
    "\n",
    "\n",
    "y_train=train['loan_default']"
   ]
  },
  {
   "cell_type": "code",
   "execution_count": 48,
   "metadata": {},
   "outputs": [
    {
     "data": {
      "text/plain": [
       "RandomizedSearchCV(cv=5, error_score='raise',\n",
       "          estimator=XGBClassifier(base_score=0.5, booster='gbtree', colsample_bylevel=1,\n",
       "       colsample_bytree=1, gamma=0, learning_rate=0.1, max_delta_step=0,\n",
       "       max_depth=3, min_child_weight=1, missing=None, n_estimators=100,\n",
       "       n_jobs=1, nthread=None, objective='binary:logistic', random_state=0,\n",
       "       reg_alpha=0, reg_lambda=1, scale_pos_weight=1, seed=None,\n",
       "       silent=True, subsample=1),\n",
       "          fit_params=None, iid=True, n_iter=10, n_jobs=-1,\n",
       "          param_distributions={'learning_rate': [0.01, 0.05, 0.1, 0.3, 0.5], 'gamma': [0.0, 0.1, 0.2, 0.3, 0.4], 'max_depth': [2, 3, 4, 5, 6, 7, 8], 'min_child_weight': [1, 2, 5, 10], 'max_delta_step': [0, 1, 2, 5, 10], 'subsample': [0.5, 0.6, 0.7, 0.8, 0.9], 'colsample_bytree': [0.5, 0.6, 0.7, 0.8, 0.9], 'co....1, 1, 100], 'scale_pos_weight': [1, 2, 3, 4, 5, 6, 7, 8, 9], 'n_estimators': [100, 500, 700, 1000]},\n",
       "          pre_dispatch='2*n_jobs', random_state=None, refit=True,\n",
       "          return_train_score='warn', scoring='roc_auc', verbose=0)"
      ]
     },
     "execution_count": 48,
     "metadata": {},
     "output_type": "execute_result"
    }
   ],
   "source": [
    "random_search.fit(x_train,y_train)"
   ]
  },
  {
   "cell_type": "code",
   "execution_count": 50,
   "metadata": {},
   "outputs": [
    {
     "data": {
      "text/plain": [
       "XGBClassifier(base_score=0.5, booster='gbtree', colsample_bylevel=0.9,\n",
       "       colsample_bytree=0.6, gamma=0.2, learning_rate=0.01,\n",
       "       max_delta_step=5, max_depth=3, min_child_weight=1, missing=None,\n",
       "       n_estimators=700, n_jobs=1, nthread=None,\n",
       "       objective='binary:logistic', random_state=0, reg_alpha=0.01,\n",
       "       reg_lambda=0.01, scale_pos_weight=5, seed=None, silent=True,\n",
       "       subsample=0.5)"
      ]
     },
     "execution_count": 50,
     "metadata": {},
     "output_type": "execute_result"
    }
   ],
   "source": [
    "random_search.best_estimator_"
   ]
  },
  {
   "cell_type": "code",
   "execution_count": 51,
   "metadata": {},
   "outputs": [],
   "source": [
    "logr=random_search.best_estimator_"
   ]
  },
  {
   "cell_type": "code",
   "execution_count": 52,
   "metadata": {},
   "outputs": [],
   "source": [
    "def report(results, n_top=3):\n",
    "    for i in range(1, n_top + 1):\n",
    "        candidates = np.flatnonzero(results['rank_test_score'] == i)\n",
    "        for candidate in candidates:\n",
    "            print(\"Model with rank: {0}\".format(i))\n",
    "            print(\"Mean validation score: {0:.3f} (std: {1:.3f})\".format(\n",
    "                results['mean_test_score'][candidate],\n",
    "                results['std_test_score'][candidate]))\n",
    "            print(\"Parameters: {0}\".format(results['params'][candidate]))\n",
    "            print(\"\")"
   ]
  },
  {
   "cell_type": "code",
   "execution_count": 53,
   "metadata": {},
   "outputs": [
    {
     "name": "stdout",
     "output_type": "stream",
     "text": [
      "Model with rank: 1\n",
      "Mean validation score: 0.646 (std: 0.009)\n",
      "Parameters: {'subsample': 0.5, 'scale_pos_weight': 5, 'reg_lambda': 0.01, 'reg_alpha': 0.01, 'n_estimators': 700, 'min_child_weight': 1, 'max_depth': 3, 'max_delta_step': 5, 'learning_rate': 0.01, 'gamma': 0.2, 'colsample_bytree': 0.6, 'colsample_bylevel': 0.9}\n",
      "\n",
      "Model with rank: 2\n",
      "Mean validation score: 0.644 (std: 0.010)\n",
      "Parameters: {'subsample': 0.8, 'scale_pos_weight': 4, 'reg_lambda': 1e-05, 'reg_alpha': 1e-05, 'n_estimators': 700, 'min_child_weight': 2, 'max_depth': 4, 'max_delta_step': 0, 'learning_rate': 0.01, 'gamma': 0.2, 'colsample_bytree': 0.8, 'colsample_bylevel': 0.9}\n",
      "\n",
      "Model with rank: 3\n",
      "Mean validation score: 0.643 (std: 0.010)\n",
      "Parameters: {'subsample': 0.6, 'scale_pos_weight': 3, 'reg_lambda': 0.1, 'reg_alpha': 1e-05, 'n_estimators': 700, 'min_child_weight': 5, 'max_depth': 5, 'max_delta_step': 1, 'learning_rate': 0.01, 'gamma': 0.1, 'colsample_bytree': 0.9, 'colsample_bylevel': 0.7}\n",
      "\n",
      "Model with rank: 4\n",
      "Mean validation score: 0.626 (std: 0.021)\n",
      "Parameters: {'subsample': 0.5, 'scale_pos_weight': 6, 'reg_lambda': 0.1, 'reg_alpha': 100, 'n_estimators': 1000, 'min_child_weight': 5, 'max_depth': 5, 'max_delta_step': 1, 'learning_rate': 0.1, 'gamma': 0.0, 'colsample_bytree': 0.9, 'colsample_bylevel': 0.7}\n",
      "\n",
      "Model with rank: 5\n",
      "Mean validation score: 0.624 (std: 0.018)\n",
      "Parameters: {'subsample': 0.9, 'scale_pos_weight': 3, 'reg_lambda': 1e-05, 'reg_alpha': 0.01, 'n_estimators': 100, 'min_child_weight': 2, 'max_depth': 7, 'max_delta_step': 1, 'learning_rate': 0.1, 'gamma': 0.2, 'colsample_bytree': 0.9, 'colsample_bylevel': 0.8}\n",
      "\n"
     ]
    }
   ],
   "source": [
    "report(random_search.cv_results_,5)"
   ]
  },
  {
   "cell_type": "code",
   "execution_count": 54,
   "metadata": {},
   "outputs": [],
   "source": [
    "train_score=logr.predict_proba(x_train)[:,1] # we can get the probabilities using predict_proba"
   ]
  },
  {
   "cell_type": "code",
   "execution_count": 55,
   "metadata": {},
   "outputs": [
    {
     "data": {
      "text/plain": [
       "array([0.64708865, 0.6619197 , 0.6676352 , ..., 0.42142305, 0.39622   ,\n",
       "       0.6006775 ], dtype=float32)"
      ]
     },
     "execution_count": 55,
     "metadata": {},
     "output_type": "execute_result"
    }
   ],
   "source": [
    "train_score"
   ]
  },
  {
   "cell_type": "code",
   "execution_count": 57,
   "metadata": {},
   "outputs": [
    {
     "data": {
      "text/plain": [
       "array([0.64998883, 0.64505196, 0.6468535 , ..., 0.5072458 , 0.6114119 ,\n",
       "       0.40161678], dtype=float32)"
      ]
     },
     "execution_count": 57,
     "metadata": {},
     "output_type": "execute_result"
    }
   ],
   "source": [
    "test_score=logr.predict_proba(test)[:,1]\n",
    "test_score"
   ]
  },
  {
   "cell_type": "code",
   "execution_count": 58,
   "metadata": {},
   "outputs": [
    {
     "data": {
      "text/plain": [
       "array([0.01, 0.02, 0.03, 0.04, 0.05, 0.06, 0.07, 0.08, 0.09, 0.1 , 0.11,\n",
       "       0.12, 0.13, 0.14, 0.15, 0.16, 0.17, 0.18, 0.19, 0.2 , 0.21, 0.22,\n",
       "       0.23, 0.24, 0.25, 0.26, 0.27, 0.28, 0.29, 0.3 , 0.31, 0.32, 0.33,\n",
       "       0.34, 0.35, 0.36, 0.37, 0.38, 0.39, 0.4 , 0.41, 0.42, 0.43, 0.44,\n",
       "       0.45, 0.46, 0.47, 0.48, 0.49, 0.5 , 0.51, 0.52, 0.53, 0.54, 0.55,\n",
       "       0.56, 0.57, 0.58, 0.59, 0.6 , 0.61, 0.62, 0.63, 0.64, 0.65, 0.66,\n",
       "       0.67, 0.68, 0.69, 0.7 , 0.71, 0.72, 0.73, 0.74, 0.75, 0.76, 0.77,\n",
       "       0.78, 0.79, 0.8 , 0.81, 0.82, 0.83, 0.84, 0.85, 0.86, 0.87, 0.88,\n",
       "       0.89, 0.9 , 0.91, 0.92, 0.93, 0.94, 0.95, 0.96, 0.97, 0.98, 0.99])"
      ]
     },
     "execution_count": 58,
     "metadata": {},
     "output_type": "execute_result"
    }
   ],
   "source": [
    "cutoffs=np.linspace(0.01,0.99,99)\n",
    "cutoffs"
   ]
  },
  {
   "cell_type": "code",
   "execution_count": 59,
   "metadata": {},
   "outputs": [
    {
     "name": "stdout",
     "output_type": "stream",
     "text": [
      "[0. 1.]\n"
     ]
    }
   ],
   "source": [
    "train_score=logr.predict_proba(x_train)[:,1] # the predicted response variable values\n",
    "real=y_train # the actual response variable values\n",
    "print(logr.classes_)"
   ]
  },
  {
   "cell_type": "code",
   "execution_count": 60,
   "metadata": {},
   "outputs": [],
   "source": [
    "from sklearn.metrics import fbeta_score"
   ]
  },
  {
   "cell_type": "code",
   "execution_count": 61,
   "metadata": {},
   "outputs": [],
   "source": [
    "KS_all=[]\n",
    "for cutoff in cutoffs:\n",
    "    predicted=(train_score>cutoff).astype(int)\n",
    "    TP=((predicted==1) & (real==1)).sum()\n",
    "    TN=((predicted==0) & (real==0)).sum()\n",
    "    FP=((predicted==1) & (real==0)).sum()\n",
    "    FN=((predicted==0) & (real==1)).sum()\n",
    "    P=TP+FN\n",
    "    N=TN+FP\n",
    "    KS=(TP/P)-(FP/N)\n",
    "    KS_all.append(KS)"
   ]
  },
  {
   "cell_type": "code",
   "execution_count": 62,
   "metadata": {},
   "outputs": [
    {
     "data": {
      "text/plain": [
       "[(0.01, 0.0),\n",
       " (0.02, 0.0),\n",
       " (0.03, 0.0),\n",
       " (0.04, 0.0),\n",
       " (0.05, 0.0),\n",
       " (0.060000000000000005, 0.0),\n",
       " (0.06999999999999999, 0.0),\n",
       " (0.08, 0.0),\n",
       " (0.09, 0.0),\n",
       " (0.09999999999999999, 0.0),\n",
       " (0.11, 0.0),\n",
       " (0.12, 0.0),\n",
       " (0.13, 5.478161309913077e-06),\n",
       " (0.14, 1.6434483929850252e-05),\n",
       " (0.15000000000000002, 6.025977440926589e-05),\n",
       " (0.16, 0.00014243219405840613),\n",
       " (0.17, 0.00023556093632737252),\n",
       " (0.18000000000000002, 0.0003734990919469494),\n",
       " (0.19, 0.0006933865426503871),\n",
       " (0.2, 0.00115570618741212),\n",
       " (0.21000000000000002, 0.0017264190865167173),\n",
       " (0.22, 0.002383612594724527),\n",
       " (0.23, 0.003302587873953433),\n",
       " (0.24000000000000002, 0.004654523745652228),\n",
       " (0.25, 0.006117006966420813),\n",
       " (0.26, 0.007854382375557467),\n",
       " (0.27, 0.009997939995515903),\n",
       " (0.28, 0.01224053109496992),\n",
       " (0.29000000000000004, 0.015296230012006529),\n",
       " (0.3, 0.018739522561208033),\n",
       " (0.31, 0.022508421449354832),\n",
       " (0.32, 0.02719610976774578),\n",
       " (0.33, 0.03198030577293587),\n",
       " (0.34, 0.03780498072904448),\n",
       " (0.35000000000000003, 0.04436421075454866),\n",
       " (0.36000000000000004, 0.05130265876024154),\n",
       " (0.37, 0.05964880837360376),\n",
       " (0.38, 0.06891928045646722),\n",
       " (0.39, 0.07848187748551483),\n",
       " (0.4, 0.0878554292952527),\n",
       " (0.41000000000000003, 0.09816229165136947),\n",
       " (0.42000000000000004, 0.10836906031202886),\n",
       " (0.43, 0.11892002389029055),\n",
       " (0.44, 0.12925093177123081),\n",
       " (0.45, 0.13957338790710438),\n",
       " (0.46, 0.1497892880633398),\n",
       " (0.47000000000000003, 0.15972338595596602),\n",
       " (0.48000000000000004, 0.16985906072315127),\n",
       " (0.49, 0.1782394936833389),\n",
       " (0.5, 0.18798428441458026),\n",
       " (0.51, 0.19651912367712132),\n",
       " (0.52, 0.2044875918928154),\n",
       " (0.53, 0.21106729756232345),\n",
       " (0.54, 0.2157821769834919),\n",
       " (0.55, 0.221071148248295),\n",
       " (0.56, 0.2257338055118645),\n",
       " (0.5700000000000001, 0.22873217440083493),\n",
       " (0.5800000000000001, 0.23142523183318398),\n",
       " (0.59, 0.230227692089229),\n",
       " (0.6, 0.2282274220882135),\n",
       " (0.61, 0.22341120377256585),\n",
       " (0.62, 0.21553257476128573),\n",
       " (0.63, 0.2065842723806367),\n",
       " (0.64, 0.19469263449158217),\n",
       " (0.65, 0.1794049207359963),\n",
       " (0.66, 0.16041756839121113),\n",
       " (0.67, 0.14140186233214846),\n",
       " (0.68, 0.12067480340199754),\n",
       " (0.6900000000000001, 0.10235803445980768),\n",
       " (0.7000000000000001, 0.08482427965445202),\n",
       " (0.7100000000000001, 0.06688536919143231),\n",
       " (0.72, 0.053859917952189015),\n",
       " (0.73, 0.04156113635171177),\n",
       " (0.74, 0.032343856694530895),\n",
       " (0.75, 0.023663884636783962),\n",
       " (0.76, 0.01644058837081272),\n",
       " (0.77, 0.009512762332751836),\n",
       " (0.78, 0.005385915702128448),\n",
       " (0.79, 0.0031497444565689215),\n",
       " (0.8, 0.001578103370374987),\n",
       " (0.81, 0.0007588288734904403),\n",
       " (0.8200000000000001, 0.00030967452402269814),\n",
       " (0.8300000000000001, 8.783642994379606e-05),\n",
       " (0.8400000000000001, 0.0),\n",
       " (0.85, 0.0),\n",
       " (0.86, 0.0),\n",
       " (0.87, 0.0),\n",
       " (0.88, 0.0),\n",
       " (0.89, 0.0),\n",
       " (0.9, 0.0),\n",
       " (0.91, 0.0),\n",
       " (0.92, 0.0),\n",
       " (0.93, 0.0),\n",
       " (0.9400000000000001, 0.0),\n",
       " (0.9500000000000001, 0.0),\n",
       " (0.9600000000000001, 0.0),\n",
       " (0.97, 0.0),\n",
       " (0.98, 0.0),\n",
       " (0.99, 0.0)]"
      ]
     },
     "execution_count": 62,
     "metadata": {},
     "output_type": "execute_result"
    }
   ],
   "source": [
    "list(zip(cutoffs,KS_all))"
   ]
  },
  {
   "cell_type": "code",
   "execution_count": 63,
   "metadata": {},
   "outputs": [
    {
     "data": {
      "text/plain": [
       "0.5800000000000001"
      ]
     },
     "execution_count": 63,
     "metadata": {},
     "output_type": "execute_result"
    }
   ],
   "source": [
    "mycutoff=cutoffs[KS_all==max(KS_all)][0]\n",
    "mycutoff"
   ]
  },
  {
   "cell_type": "code",
   "execution_count": 65,
   "metadata": {},
   "outputs": [
    {
     "data": {
      "text/plain": [
       "array([0.64998883, 0.64505196, 0.6468535 , ..., 0.5072458 , 0.6114119 ,\n",
       "       0.40161678], dtype=float32)"
      ]
     },
     "execution_count": 65,
     "metadata": {},
     "output_type": "execute_result"
    }
   ],
   "source": [
    "test_score=logr.predict_proba(test)[:,1]\n",
    "test_score"
   ]
  },
  {
   "cell_type": "code",
   "execution_count": 66,
   "metadata": {},
   "outputs": [],
   "source": [
    "test_classes=(test_score>mycutoff).astype(int)"
   ]
  },
  {
   "cell_type": "code",
   "execution_count": 138,
   "metadata": {},
   "outputs": [],
   "source": [
    "final1=pd.concat([UID,test_cl1],axis=1)"
   ]
  },
  {
   "cell_type": "code",
   "execution_count": 142,
   "metadata": {},
   "outputs": [],
   "source": [
    "final1.columns=['UniqueID','loan_default']"
   ]
  },
  {
   "cell_type": "code",
   "execution_count": 134,
   "metadata": {},
   "outputs": [],
   "source": [
    "test_cl1=pd.DataFrame(test_classes)"
   ]
  },
  {
   "cell_type": "code",
   "execution_count": 144,
   "metadata": {},
   "outputs": [],
   "source": [
    "pd.DataFrame(final1).to_csv(\"Shraddha1.csv\",index=False)"
   ]
  },
  {
   "cell_type": "code",
   "execution_count": null,
   "metadata": {},
   "outputs": [],
   "source": []
  }
 ],
 "metadata": {
  "kernelspec": {
   "display_name": "Python 3",
   "language": "python",
   "name": "python3"
  },
  "language_info": {
   "codemirror_mode": {
    "name": "ipython",
    "version": 3
   },
   "file_extension": ".py",
   "mimetype": "text/x-python",
   "name": "python",
   "nbconvert_exporter": "python",
   "pygments_lexer": "ipython3",
   "version": "3.6.4"
  }
 },
 "nbformat": 4,
 "nbformat_minor": 2
}
